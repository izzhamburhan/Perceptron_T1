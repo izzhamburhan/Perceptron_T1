{
  "nbformat": 4,
  "nbformat_minor": 0,
  "metadata": {
    "colab": {
      "provenance": [],
      "authorship_tag": "ABX9TyOkeWm5h/EIkxSMuG4K6t2t",
      "include_colab_link": true
    },
    "kernelspec": {
      "name": "python3",
      "display_name": "Python 3"
    },
    "language_info": {
      "name": "python"
    }
  },
  "cells": [
    {
      "cell_type": "markdown",
      "metadata": {
        "id": "view-in-github",
        "colab_type": "text"
      },
      "source": [
        "<a href=\"https://colab.research.google.com/github/izzhamburhan/Perceptron_T1/blob/main/Perceptron_T1.ipynb\" target=\"_parent\"><img src=\"https://colab.research.google.com/assets/colab-badge.svg\" alt=\"Open In Colab\"/></a>"
      ]
    },
    {
      "cell_type": "code",
      "execution_count": 1,
      "metadata": {
        "colab": {
          "base_uri": "https://localhost:8080/"
        },
        "id": "Ozn87m2ts28u",
        "outputId": "ffe0613a-bfa2-40b8-b359-071597313543"
      },
      "outputs": [
        {
          "output_type": "stream",
          "name": "stdout",
          "text": [
            "0.04000000000000001\n",
            "0.19\n",
            "0.31\n",
            "output : 0\n"
          ]
        }
      ],
      "source": [
        "x_input= [0.1, 0.5, 0.2]\n",
        "w_weights = [0.4, 0.3, 0.6]\n",
        "threshold = 0.5\n",
        "\n",
        "def step(weighted_sum):\n",
        "  if weighted_sum > threshold :\n",
        "    return 1\n",
        "  else : \n",
        "    return 0\n",
        "\n",
        "def perceptron():\n",
        "  weighted_sum = 0\n",
        "  for x,w in zip(x_input,w_weights):\n",
        "    weighted_sum += x*w\n",
        "    print(weighted_sum)\n",
        "  return step(weighted_sum)\n",
        "\n",
        "\n",
        "output = perceptron()\n",
        "print(\"output : \" + str(output))"
      ]
    },
    {
      "cell_type": "code",
      "source": [
        "x_input= [1, 0, 1]\n",
        "w_weights = [0.4, 0.7, -0.4]\n",
        "threshold = 0.3\n",
        "\n",
        "def step(weighted_sum):\n",
        "  if weighted_sum > threshold :\n",
        "    return 1\n",
        "  else : \n",
        "    return 0\n",
        "\n",
        "def perceptron():\n",
        "  weighted_sum = 0\n",
        "  for x,w in zip(x_input,w_weights):\n",
        "    weighted_sum += x*w\n",
        "    print(weighted_sum)\n",
        "  return step(weighted_sum)\n",
        "\n",
        "\n",
        "output = perceptron()\n",
        "print(\"output : \" + str(output))"
      ],
      "metadata": {
        "colab": {
          "base_uri": "https://localhost:8080/"
        },
        "id": "WLnr5SD5ueFQ",
        "outputId": "bf6fc91e-d04d-44d7-eddf-52c3de8f124b"
      },
      "execution_count": 2,
      "outputs": [
        {
          "output_type": "stream",
          "name": "stdout",
          "text": [
            "0.4\n",
            "0.4\n",
            "0.0\n",
            "output : 0\n"
          ]
        }
      ]
    }
  ]
}